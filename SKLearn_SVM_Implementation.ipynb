{
  "nbformat": 4,
  "nbformat_minor": 0,
  "metadata": {
    "colab": {
      "name": "SKLearn SVM Implementation.ipynb",
      "provenance": [],
      "authorship_tag": "ABX9TyOxK6ALS5ftHeP390aJIqhy",
      "include_colab_link": true
    },
    "kernelspec": {
      "name": "python3",
      "display_name": "Python 3"
    },
    "language_info": {
      "name": "python"
    }
  },
  "cells": [
    {
      "cell_type": "markdown",
      "metadata": {
        "id": "view-in-github",
        "colab_type": "text"
      },
      "source": [
        "<a href=\"https://colab.research.google.com/github/Tangjas20/MNIST_Dataset_recognition/blob/main/SKLearn_SVM_Implementation.ipynb\" target=\"_parent\"><img src=\"https://colab.research.google.com/assets/colab-badge.svg\" alt=\"Open In Colab\"/></a>"
      ]
    },
    {
      "cell_type": "markdown",
      "source": [
        "## SVM implementation"
      ],
      "metadata": {
        "id": "E-56d2jCypK8"
      }
    },
    {
      "cell_type": "code",
      "source": [
        "from sklearn import svm\n",
        "from sklearn.model_selection import GridSearchCV\n",
        "from sklearn.model_selection import train_test_split\n",
        "from sklearn.metrics import accuracy_score, ConfusionMatrixDisplay\n",
        "import matplotlib.pyplot as plt\n",
        "from sklearn import metrics\n",
        "from sklearn.metrics import plot_confusion_matrix\n",
        "import tensorflow as tf\n",
        "import time"
      ],
      "metadata": {
        "id": "G7oXalvVyoVT"
      },
      "execution_count": 1,
      "outputs": []
    },
    {
      "cell_type": "code",
      "source": [
        "(x_train1, y_train), (x_test1, y_test) = tf.keras.datasets.mnist.load_data()"
      ],
      "metadata": {
        "id": "fm6XX1yCyuND",
        "colab": {
          "base_uri": "https://localhost:8080/"
        },
        "outputId": "f199ef8c-61f1-4644-c75c-b2b6cb3644d4"
      },
      "execution_count": 2,
      "outputs": [
        {
          "output_type": "stream",
          "name": "stdout",
          "text": [
            "Downloading data from https://storage.googleapis.com/tensorflow/tf-keras-datasets/mnist.npz\n",
            "11493376/11490434 [==============================] - 0s 0us/step\n",
            "11501568/11490434 [==============================] - 0s 0us/step\n"
          ]
        }
      ]
    },
    {
      "cell_type": "code",
      "source": [
        "#flattening the images\n",
        "train_samples = len(x_train1)\n",
        "test_samples = len(x_test1)\n",
        "x_train = x_train1.reshape((train_samples, -1))\n",
        "x_test = x_test1.reshape((test_samples, -1))\n",
        "\n",
        "print(x_train.shape)\n",
        "print(x_test.shape)"
      ],
      "metadata": {
        "colab": {
          "base_uri": "https://localhost:8080/"
        },
        "id": "VnSBIqMoy1Ay",
        "outputId": "c20be692-518a-4da4-921c-c74e1b25993f"
      },
      "execution_count": 3,
      "outputs": [
        {
          "output_type": "stream",
          "name": "stdout",
          "text": [
            "(60000, 784)\n",
            "(10000, 784)\n"
          ]
        }
      ]
    },
    {
      "cell_type": "code",
      "source": [
        "# Reducing the size of the train and test data, this is not necessary but makes the runtime shorter\n",
        "\n",
        "\n",
        "x_train = x_train[0:60000]\n",
        "y_train = y_train[0:60000]\n",
        "x_test = x_test[0:10000]\n",
        "y_test = y_test[0:10000]\n",
        "print(x_train.shape)\n",
        "print(x_test.shape)\n",
        "\n",
        "start = time.time()\n",
        "svc = svm.SVC(kernel = 'poly')\n",
        "svc.fit(x_train,y_train)\n",
        "print(\"Time taken for model to be fitted was: \" + str(time.time()-start) + \" seconds.\")"
      ],
      "metadata": {
        "id": "vB7umhSBy8R7",
        "colab": {
          "base_uri": "https://localhost:8080/"
        },
        "outputId": "4b51217a-20b4-4032-c9f5-e5707169b836"
      },
      "execution_count": 4,
      "outputs": [
        {
          "output_type": "stream",
          "name": "stdout",
          "text": [
            "(60000, 784)\n",
            "(10000, 784)\n",
            "Time taken for model to be fitted was: 349.4510033130646 seconds.\n"
          ]
        }
      ]
    },
    {
      "cell_type": "code",
      "source": [
        "y_pred = svc.predict(x_test)\n",
        "print(\"The first 100 elements of the predicted Data is:\")\n",
        "print(y_pred[0:100])\n",
        "print(\"The first 100 elements of the actual data is:\")\n",
        "print(y_test[0:100])\n",
        "\n",
        "\n",
        "print(\"\\nThe accuracy score for the model is:\")\n",
        "print(accuracy_score(y_test, y_pred))"
      ],
      "metadata": {
        "colab": {
          "base_uri": "https://localhost:8080/"
        },
        "id": "exF1PCpqNLS0",
        "outputId": "c6050676-9c8e-47e1-e952-bc55c521329a"
      },
      "execution_count": 5,
      "outputs": [
        {
          "output_type": "stream",
          "name": "stdout",
          "text": [
            "The first 100 elements of the predicted Data is:\n",
            "[7 2 1 0 4 1 4 9 5 9 0 6 9 0 1 5 9 7 3 4 9 6 6 5 4 0 7 4 0 1 3 1 3 4 7 2 7\n",
            " 1 2 1 1 7 4 2 3 5 1 2 4 4 6 3 5 5 6 0 4 1 9 5 7 8 9 3 7 4 6 4 3 0 7 0 2 9\n",
            " 1 7 3 2 9 7 7 6 2 7 8 4 7 3 6 1 3 6 9 3 1 4 1 7 6 9]\n",
            "The first 100 elements of the actual data is:\n",
            "[7 2 1 0 4 1 4 9 5 9 0 6 9 0 1 5 9 7 3 4 9 6 6 5 4 0 7 4 0 1 3 1 3 4 7 2 7\n",
            " 1 2 1 1 7 4 2 3 5 1 2 4 4 6 3 5 5 6 0 4 1 9 5 7 8 9 3 7 4 6 4 3 0 7 0 2 9\n",
            " 1 7 3 2 9 7 7 6 2 7 8 4 7 3 6 1 3 6 9 3 1 4 1 7 6 9]\n",
            "\n",
            "The accuracy score for the model is:\n",
            "0.9771\n"
          ]
        }
      ]
    },
    {
      "cell_type": "code",
      "source": [
        "plot = plot_confusion_matrix(svc, x_test, y_test)\n",
        "classification_rep = metrics.classification_report(y_test, y_pred)\n",
        "print(classification_rep)\n",
        "print(\"\\nConfusion Matrix:\")"
      ],
      "metadata": {
        "colab": {
          "base_uri": "https://localhost:8080/",
          "height": 674
        },
        "id": "jaWZFzg5NLZ_",
        "outputId": "3f2d1b54-6a60-429e-a2c5-f18bae546a76"
      },
      "execution_count": 6,
      "outputs": [
        {
          "output_type": "stream",
          "name": "stderr",
          "text": [
            "/usr/local/lib/python3.7/dist-packages/sklearn/utils/deprecation.py:87: FutureWarning: Function plot_confusion_matrix is deprecated; Function `plot_confusion_matrix` is deprecated in 1.0 and will be removed in 1.2. Use one of the class methods: ConfusionMatrixDisplay.from_predictions or ConfusionMatrixDisplay.from_estimator.\n",
            "  warnings.warn(msg, category=FutureWarning)\n"
          ]
        },
        {
          "output_type": "stream",
          "name": "stdout",
          "text": [
            "              precision    recall  f1-score   support\n",
            "\n",
            "           0       0.98      0.99      0.99       980\n",
            "           1       0.97      0.99      0.98      1135\n",
            "           2       0.98      0.97      0.98      1032\n",
            "           3       0.98      0.97      0.98      1010\n",
            "           4       0.97      0.98      0.98       982\n",
            "           5       0.97      0.97      0.97       892\n",
            "           6       0.98      0.98      0.98       958\n",
            "           7       0.97      0.97      0.97      1028\n",
            "           8       0.98      0.97      0.98       974\n",
            "           9       0.97      0.96      0.97      1009\n",
            "\n",
            "    accuracy                           0.98     10000\n",
            "   macro avg       0.98      0.98      0.98     10000\n",
            "weighted avg       0.98      0.98      0.98     10000\n",
            "\n",
            "\n",
            "Confusion Matrix:\n"
          ]
        },
        {
          "output_type": "display_data",
          "data": {
            "text/plain": [
              "<Figure size 432x288 with 2 Axes>"
            ],
            "image/png": "[encoded data removed]"
          },
          "metadata": {
            "needs_background": "light"
          }
        }
      ]
    }
  ]
}