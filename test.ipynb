{
 "cells": [
  {
   "cell_type": "code",
   "execution_count": 1,
   "metadata": {
    "collapsed": true,
    "pycharm": {
     "name": "#%%\n"
    }
   },
   "outputs": [],
   "source": [
    "from keras.models import Sequential\n",
    "from keras.layers import Dense\n",
    "from keras.utils import to_categorical\n",
    "\n",
    "from sklearn.preprocessing import StandardScaler\n",
    "from sklearn.model_selection import train_test_split\n",
    "from sklearn.datasets import make_regression\n",
    "\n",
    "X, y = make_regression(n_samples=1000, n_features=20)\n",
    "X_train, X_test, y_train, y_test = train_test_split(X, y, random_state=42)\n",
    "\n",
    "\n",
    "\n",
    "\n"
   ]
  },
  {
   "cell_type": "code",
   "execution_count": 2,
   "outputs": [],
   "source": [
    "\n",
    "ss = StandardScaler()\n",
    "X_train_sc = ss.fit_transform(X_train)\n",
    "X_test_sc = ss.transform(X_test)"
   ],
   "metadata": {
    "collapsed": false,
    "pycharm": {
     "name": "#%%\n"
    }
   }
  },
  {
   "cell_type": "code",
   "execution_count": 3,
   "outputs": [],
   "source": [
    "model = Sequential()\n",
    "model.add(Dense(32, input_dim=20, activation='relu'))\n",
    "model.add(Dense(8, activation='relu'))\n",
    "model.add(Dense(1))"
   ],
   "metadata": {
    "collapsed": false,
    "pycharm": {
     "name": "#%%\n"
    }
   }
  },
  {
   "cell_type": "code",
   "execution_count": 4,
   "outputs": [
    {
     "name": "stdout",
     "output_type": "stream",
     "text": [
      "Epoch 1/10\n",
      "24/24 [==============================] - 10s 7ms/step - loss: 23737.0820 - val_loss: 25830.9023\n",
      "Epoch 2/10\n",
      "24/24 [==============================] - 0s 3ms/step - loss: 23700.9473 - val_loss: 25789.5176\n",
      "Epoch 3/10\n",
      "24/24 [==============================] - 0s 3ms/step - loss: 23655.1543 - val_loss: 25729.4473\n",
      "Epoch 4/10\n",
      "24/24 [==============================] - 0s 6ms/step - loss: 23583.1113 - val_loss: 25630.9199\n",
      "Epoch 5/10\n",
      "24/24 [==============================] - 0s 16ms/step - loss: 23468.7930 - val_loss: 25478.0938\n",
      "Epoch 6/10\n",
      "24/24 [==============================] - 1s 30ms/step - loss: 23298.8477 - val_loss: 25247.8770\n",
      "Epoch 7/10\n",
      "24/24 [==============================] - 0s 8ms/step - loss: 23036.2715 - val_loss: 24921.0742\n",
      "Epoch 8/10\n",
      "24/24 [==============================] - 0s 12ms/step - loss: 22675.9844 - val_loss: 24439.4609\n",
      "Epoch 9/10\n",
      "24/24 [==============================] - 0s 3ms/step - loss: 22149.2344 - val_loss: 23793.6055\n",
      "Epoch 10/10\n",
      "24/24 [==============================] - 0s 3ms/step - loss: 21462.6367 - val_loss: 22914.7383\n"
     ]
    },
    {
     "data": {
      "text/plain": "<keras.callbacks.History at 0x228738f20d0>"
     },
     "execution_count": 4,
     "metadata": {},
     "output_type": "execute_result"
    }
   ],
   "source": [
    "model.compile(loss='mean_squared_error', optimizer='adam')\n",
    "\n",
    "model.fit(X_train_sc, y_train, validation_data=(X_test_sc, y_test), epochs=10, batch_size=32)"
   ],
   "metadata": {
    "collapsed": false,
    "pycharm": {
     "name": "#%%\n"
    }
   }
  }
 ],
 "metadata": {
  "kernelspec": {
   "display_name": "Python 3",
   "language": "python",
   "name": "python3"
  },
  "language_info": {
   "codemirror_mode": {
    "name": "ipython",
    "version": 2
   },
   "file_extension": ".py",
   "mimetype": "text/x-python",
   "name": "python",
   "nbconvert_exporter": "python",
   "pygments_lexer": "ipython2",
   "version": "2.7.6"
  }
 },
 "nbformat": 4,
 "nbformat_minor": 0
}