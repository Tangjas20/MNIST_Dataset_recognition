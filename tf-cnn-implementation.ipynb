{
  "cells": [
    {
      "cell_type": "markdown",
      "metadata": {
        "id": "view-in-github",
        "colab_type": "text"
      },
      "source": [
        "<a href=\"https://colab.research.google.com/gist/Tangjas20/15f1e7c5916a5334d0b806e29e212b2e/tf-cnn-implementation.ipynb\" target=\"_parent\"><img src=\"https://colab.research.google.com/assets/colab-badge.svg\" alt=\"Open In Colab\"/></a>"
      ]
    },
    {
      "cell_type": "code",
      "execution_count": null,
      "metadata": {
        "colab": {
          "base_uri": "https://localhost:8080/"
        },
        "id": "7d5jsTvpiDsL",
        "outputId": "83516514-6698-4112-e666-658bb2552179"
      },
      "outputs": [
        {
          "output_type": "stream",
          "name": "stdout",
          "text": [
            "Downloading data from https://storage.googleapis.com/tensorflow/tf-keras-datasets/mnist.npz\n",
            "11493376/11490434 [==============================] - 0s 0us/step\n",
            "11501568/11490434 [==============================] - 0s 0us/step\n",
            "Mon May 30 07:07:23 2022       \n",
            "+-----------------------------------------------------------------------------+\n",
            "| NVIDIA-SMI 460.32.03    Driver Version: 460.32.03    CUDA Version: 11.2     |\n",
            "|-------------------------------+----------------------+----------------------+\n",
            "| GPU  Name        Persistence-M| Bus-Id        Disp.A | Volatile Uncorr. ECC |\n",
            "| Fan  Temp  Perf  Pwr:Usage/Cap|         Memory-Usage | GPU-Util  Compute M. |\n",
            "|                               |                      |               MIG M. |\n",
            "|===============================+======================+======================|\n",
            "|   0  Tesla P100-PCIE...  Off  | 00000000:00:04.0 Off |                    0 |\n",
            "| N/A   32C    P0    26W / 250W |      0MiB / 16280MiB |      0%      Default |\n",
            "|                               |                      |                  N/A |\n",
            "+-------------------------------+----------------------+----------------------+\n",
            "                                                                               \n",
            "+-----------------------------------------------------------------------------+\n",
            "| Processes:                                                                  |\n",
            "|  GPU   GI   CI        PID   Type   Process name                  GPU Memory |\n",
            "|        ID   ID                                                   Usage      |\n",
            "|=============================================================================|\n",
            "|  No running processes found                                                 |\n",
            "+-----------------------------------------------------------------------------+\n"
          ]
        }
      ],
      "source": [
        "import tensorflow as tf\n",
        "(x_train, y_train), (x_test, y_test) = tf.keras.datasets.mnist.load_data() #Load MNIST dataset through Tensorflow.\n",
        "\n",
        "gpu_info = !nvidia-smi\n",
        "gpu_info = '\\n'.join(gpu_info)\n",
        "if gpu_info.find('failed') >= 0: #Outputs GPU Information if a GPU runtime is connected\n",
        "  print('Not connected to a GPU')\n",
        "else:\n",
        "  print(gpu_info)"
      ]
    },
    {
      "cell_type": "code",
      "execution_count": null,
      "metadata": {
        "colab": {
          "base_uri": "https://localhost:8080/",
          "height": 301
        },
        "id": "9xIcfyNMibCM",
        "outputId": "0a9123d3-c088-4fba-cc39-055cf3d692ee"
      },
      "outputs": [
        {
          "output_type": "stream",
          "name": "stdout",
          "text": [
            "Image Label is: 0\n"
          ]
        },
        {
          "output_type": "execute_result",
          "data": {
            "text/plain": [
              "<matplotlib.image.AxesImage at 0x7f508b71ad10>"
            ]
          },
          "metadata": {},
          "execution_count": 2
        },
        {
          "output_type": "display_data",
          "data": {
            "text/plain": [
              "<Figure size 432x288 with 1 Axes>"
            ],
            "image/png": "[encoded data removed]"
          },
          "metadata": {
            "needs_background": "light"
          }
        }
      ],
      "source": [
        "#Plot an example image based on the image_index\n",
        "import matplotlib.pyplot as plt\n",
        "\n",
        "image_index = 1\n",
        "print(\"Image Label is:\", y_train[image_index])\n",
        "plt.imshow(x_train[image_index])\n"
      ]
    },
    {
      "cell_type": "code",
      "execution_count": null,
      "metadata": {
        "colab": {
          "base_uri": "https://localhost:8080/"
        },
        "id": "e69cNe1Mid8K",
        "outputId": "67a1f4c6-bade-4816-f731-c9b02cd9ae51"
      },
      "outputs": [
        {
          "output_type": "execute_result",
          "data": {
            "text/plain": [
              "(60000, 28, 28)"
            ]
          },
          "metadata": {},
          "execution_count": 3
        }
      ],
      "source": [
        "#Show how many training images there are and their size/features\n",
        "x_train.shape\n"
      ]
    },
    {
      "cell_type": "code",
      "execution_count": null,
      "metadata": {
        "colab": {
          "base_uri": "https://localhost:8080/"
        },
        "id": "_hMAfAbKid-_",
        "outputId": "307c6fad-d724-4f68-bc9a-43b9fcd90c7b"
      },
      "outputs": [
        {
          "output_type": "stream",
          "name": "stdout",
          "text": [
            "x_train shape: (60000, 28, 28, 1)\n"
          ]
        }
      ],
      "source": [
        "#Reshaping and processing data. It is normalised and prepped to be used in TF/Keras\n",
        "x_train.shape\n",
        "image_size = 28\n",
        "num_train_images = 60000\n",
        "num_test_images = 10000\n",
        "\n",
        "x_train = x_train.reshape(num_train_images, image_size, image_size, 1).astype('float32')\n",
        "x_test = x_test.reshape(num_test_images, image_size, image_size, 1).astype('float32')\n",
        "input_shape = (image_size, image_size, 1)\n",
        "#Normalising data values ranging from 0-1\n",
        "x_train /= 255\n",
        "x_test /= 255\n",
        "print('x_train shape:', x_train.shape)\n"
      ]
    },
    {
      "cell_type": "code",
      "execution_count": null,
      "metadata": {
        "id": "cjsKHrMVieBn"
      },
      "outputs": [],
      "source": [
        "# Importing the required Keras modules containing model and layers\n",
        "from tensorflow.keras.models import Sequential\n",
        "from tensorflow.keras.layers import Dense, Conv2D, Dropout, Flatten, MaxPooling2D\n",
        "\n",
        "# Creating a Sequential Model and adding the layers\n",
        "model = Sequential()\n",
        "model.add(Conv2D(56, kernel_size=(6, 6), input_shape=input_shape))\n",
        "model.add(MaxPooling2D(pool_size=(4, 4)))\n",
        "model.add(Flatten()) # Flattening the 2D arrays for fully connected layers\n",
        "model.add(Dense(128, activation=tf.nn.relu)) # Create fully connected layers (New Neuron layer)\n",
        "model.add(Dense(128)) # Tried Leaky Relu, but normal relu works better\n",
        "model.add(Dropout(0.2)) # Prevents overfitting, randomly sets outgoing edge sof hidden units to 0\n",
        "\n",
        "model.add(Dense(10, activation=tf.nn.softmax)) # 10 classes and will pick the one with the greatest numerical value\n"
      ]
    },
    {
      "cell_type": "code",
      "execution_count": null,
      "metadata": {
        "colab": {
          "base_uri": "https://localhost:8080/"
        },
        "id": "aWsbJ69AijIz",
        "outputId": "2214a2a0-5c91-46e5-cfeb-ae30149c0ec7"
      },
      "outputs": [
        {
          "output_type": "stream",
          "name": "stdout",
          "text": [
            "Epoch 1/15\n",
            "1875/1875 [==============================] - 13s 2ms/step - loss: 0.5171 - accuracy: 0.8526\n",
            "Epoch 2/15\n",
            "1875/1875 [==============================] - 4s 2ms/step - loss: 0.1442 - accuracy: 0.9562\n",
            "Epoch 3/15\n",
            "1875/1875 [==============================] - 4s 2ms/step - loss: 0.1030 - accuracy: 0.9694\n",
            "Epoch 4/15\n",
            "1875/1875 [==============================] - 4s 2ms/step - loss: 0.0827 - accuracy: 0.9749\n",
            "Epoch 5/15\n",
            "1875/1875 [==============================] - 4s 2ms/step - loss: 0.0713 - accuracy: 0.9784\n",
            "Epoch 6/15\n",
            "1875/1875 [==============================] - 4s 2ms/step - loss: 0.0621 - accuracy: 0.9818\n",
            "Epoch 7/15\n",
            "1875/1875 [==============================] - 4s 2ms/step - loss: 0.0560 - accuracy: 0.9833\n",
            "Epoch 8/15\n",
            "1875/1875 [==============================] - 4s 2ms/step - loss: 0.0512 - accuracy: 0.9846\n",
            "Epoch 9/15\n",
            "1875/1875 [==============================] - 4s 2ms/step - loss: 0.0467 - accuracy: 0.9859\n",
            "Epoch 10/15\n",
            "1875/1875 [==============================] - 4s 2ms/step - loss: 0.0433 - accuracy: 0.9868\n",
            "Epoch 11/15\n",
            "1875/1875 [==============================] - 4s 2ms/step - loss: 0.0401 - accuracy: 0.9879\n",
            "Epoch 12/15\n",
            "1875/1875 [==============================] - 4s 2ms/step - loss: 0.0374 - accuracy: 0.9889\n",
            "Epoch 13/15\n",
            "1875/1875 [==============================] - 4s 2ms/step - loss: 0.0348 - accuracy: 0.9899\n",
            "Epoch 14/15\n",
            "1875/1875 [==============================] - 4s 2ms/step - loss: 0.0330 - accuracy: 0.9901\n",
            "Epoch 15/15\n",
            "1875/1875 [==============================] - 4s 2ms/step - loss: 0.0311 - accuracy: 0.9905\n",
            "Total Model Fit Time Was:  1.0961854497591654 minutes\n"
          ]
        }
      ],
      "source": [
        "\n",
        "import time\n",
        "model.compile(optimizer='sgd', # SGD is used as it generalises predictions better than adam\n",
        "              loss='sparse_categorical_crossentropy',\n",
        "              metrics=['accuracy'])\n",
        "start = time.time()\n",
        "model.fit(x=x_train,y=y_train, epochs=15)\n",
        "print(\"Total Model Fit Time Was: \", (time.time() - start)/60, \"minutes\")\n",
        "#Epochs after 15 did not improve accuracy and at times decreased before increasing. \n",
        "#This could be a sign of over fitting to training data.\n"
      ]
    },
    {
      "cell_type": "code",
      "execution_count": null,
      "metadata": {
        "id": "vfUgXhg9ijLJ",
        "colab": {
          "base_uri": "https://localhost:8080/"
        },
        "outputId": "82963f1e-7f4f-41f2-c143-557ee8d73372"
      },
      "outputs": [
        {
          "output_type": "stream",
          "name": "stdout",
          "text": [
            "313/313 [==============================] - 1s 2ms/step - loss: 0.0316 - accuracy: 0.9894\n"
          ]
        },
        {
          "output_type": "execute_result",
          "data": {
            "text/plain": [
              "[0.0315791554749012, 0.9894000291824341]"
            ]
          },
          "metadata": {},
          "execution_count": 7
        }
      ],
      "source": [
        "#Evaluate the performance - Finds Loss and Accuracy\n",
        "model.evaluate(x_test, y_test)\n"
      ]
    },
    {
      "cell_type": "code",
      "execution_count": null,
      "metadata": {
        "colab": {
          "base_uri": "https://localhost:8080/"
        },
        "id": "ipSPbHHNk_U4",
        "outputId": "f0ef8ca4-1ba2-4d1a-f208-c57247d9bd01"
      },
      "outputs": [
        {
          "output_type": "stream",
          "name": "stdout",
          "text": [
            "Model: \"sequential\"\n",
            "_________________________________________________________________\n",
            " Layer (type)                Output Shape              Param #   \n",
            "=================================================================\n",
            " conv2d (Conv2D)             (None, 23, 23, 56)        2072      \n",
            "                                                                 \n",
            " max_pooling2d (MaxPooling2D  (None, 5, 5, 56)         0         \n",
            " )                                                               \n",
            "                                                                 \n",
            " flatten (Flatten)           (None, 1400)              0         \n",
            "                                                                 \n",
            " dense (Dense)               (None, 128)               179328    \n",
            "                                                                 \n",
            " dense_1 (Dense)             (None, 128)               16512     \n",
            "                                                                 \n",
            " dropout (Dropout)           (None, 128)               0         \n",
            "                                                                 \n",
            " dense_2 (Dense)             (None, 10)                1290      \n",
            "                                                                 \n",
            "=================================================================\n",
            "Total params: 199,202\n",
            "Trainable params: 199,202\n",
            "Non-trainable params: 0\n",
            "_________________________________________________________________\n"
          ]
        }
      ],
      "source": [
        "#Provides summary of the sequential mode and layers used\n",
        "model.summary()\n"
      ]
    },
    {
      "cell_type": "code",
      "execution_count": null,
      "metadata": {
        "colab": {
          "base_uri": "https://localhost:8080/",
          "height": 533
        },
        "id": "hy5aeF7ciljP",
        "outputId": "8f86b1d4-3902-49ae-a608-aced5d0b43ba"
      },
      "outputs": [
        {
          "output_type": "stream",
          "name": "stdout",
          "text": [
            "Here are the possibilities for each number\n",
            "\n",
            "0 4.1927631855287473e-07\n",
            "1 0.9998032450675964\n",
            "2 1.7317051970167086e-07\n",
            "3 7.748527375284198e-10\n",
            "4 6.825708987889811e-05\n",
            "5 8.211443081052039e-09\n",
            "6 2.7380394840292865e-07\n",
            "7 0.00012730171147268265\n",
            "8 3.316214360893355e-07\n",
            "9 5.985891249338238e-08\n",
            "\n",
            "\n",
            "Predicted Handwritten Digit is:  1\n"
          ]
        },
        {
          "output_type": "display_data",
          "data": {
            "text/plain": [
              "<Figure size 432x288 with 1 Axes>"
            ],
            "image/png": "[encoded data removed]"
          },
          "metadata": {
            "needs_background": "light"
          }
        }
      ],
      "source": [
        "import numpy as np\n",
        "image_index = 5\n",
        "image_to_predict = x_test[image_index].reshape(1, 28, 28, 1)\n",
        "plt.imshow(x_test[image_index].reshape(28, 28),cmap='Greys')\n",
        "pred = model.predict(image_to_predict)\n",
        "list1 = pred.tolist()[0]\n",
        "print(\"Here are the possibilities for each number\\n\")\n",
        "for count, i in enumerate(list1):\n",
        "  print(count, i)\n",
        "print(\"\\n\")\n",
        "\n",
        "print(\"Predicted Handwritten Digit is: \", list1.index(max(list1)))"
      ]
    },
    {
      "cell_type": "code",
      "source": [
        "from sklearn.metrics import classification_report, confusion_matrix\n",
        "\n",
        "y_pred = model.predict(x_test, batch_size=10000, verbose=1)\n",
        "y_pred_bool = np.argmax(y_pred, axis=1)\n",
        "confusion_mat = confusion_matrix(y_test, y_pred_bool, labels = [0, 1, 2, 3, 4, 5, 6, 7, 8, 9])\n",
        "print(classification_report(y_test, y_pred_bool))\n",
        "print(\"\\n\\nConfusion Matrix:\\n\\n{}\".format(confusion_mat))\n"
      ],
      "metadata": {
        "colab": {
          "base_uri": "https://localhost:8080/"
        },
        "id": "SJ99sh-DGX3C",
        "outputId": "ecaab246-5689-4fab-ecde-cb97828eabfd"
      },
      "execution_count": 11,
      "outputs": [
        {
          "output_type": "stream",
          "name": "stdout",
          "text": [
            "1/1 [==============================] - 0s 47ms/step\n",
            "              precision    recall  f1-score   support\n",
            "\n",
            "           0       0.98      1.00      0.99       980\n",
            "           1       0.99      1.00      1.00      1135\n",
            "           2       0.99      0.99      0.99      1032\n",
            "           3       0.99      0.99      0.99      1010\n",
            "           4       0.99      1.00      0.99       982\n",
            "           5       0.99      0.98      0.99       892\n",
            "           6       0.99      0.98      0.99       958\n",
            "           7       0.99      0.99      0.99      1028\n",
            "           8       0.98      0.99      0.98       974\n",
            "           9       1.00      0.98      0.99      1009\n",
            "\n",
            "    accuracy                           0.99     10000\n",
            "   macro avg       0.99      0.99      0.99     10000\n",
            "weighted avg       0.99      0.99      0.99     10000\n",
            "\n",
            "\n",
            "\n",
            "Confusion Matrix:\n",
            "\n",
            "[[ 976    0    0    0    0    0    0    2    2    0]\n",
            " [   0 1133    0    1    0    0    0    1    0    0]\n",
            " [   3    2 1017    0    1    0    1    4    4    0]\n",
            " [   1    0    3  999    0    4    0    0    3    0]\n",
            " [   0    0    0    0  979    0    0    0    0    3]\n",
            " [   3    0    0    6    0  876    3    1    3    0]\n",
            " [   5    3    1    0    1    2  942    0    4    0]\n",
            " [   0    2    3    1    0    0    0 1019    3    0]\n",
            " [   4    0    1    0    1    0    1    1  965    1]\n",
            " [   2    2    0    1    5    4    1    3    3  988]]\n"
          ]
        }
      ]
    }
  ],
  "metadata": {
    "colab": {
      "name": "TF CNN Implementation.ipynb",
      "provenance": [],
      "collapsed_sections": [],
      "machine_shape": "hm",
      "include_colab_link": true
    },
    "kernelspec": {
      "display_name": "Python 3",
      "name": "python3"
    },
    "language_info": {
      "name": "python"
    },
    "accelerator": "GPU"
  },
  "nbformat": 4,
  "nbformat_minor": 0
}