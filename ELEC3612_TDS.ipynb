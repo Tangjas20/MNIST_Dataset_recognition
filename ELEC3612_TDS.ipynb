{
  "cells": [
    {
      "cell_type": "markdown",
      "metadata": {
        "id": "view-in-github",
        "colab_type": "text"
      },
      "source": [
        "<a href=\"https://colab.research.google.com/github/Tangjas20/MNIST_Dataset_recognition/blob/main/ELEC3612_TDS.ipynb\" target=\"_parent\"><img src=\"https://colab.research.google.com/assets/colab-badge.svg\" alt=\"Open In Colab\"/></a>"
      ]
    },
    {
      "cell_type": "code",
      "execution_count": null,
      "metadata": {
        "colab": {
          "base_uri": "https://localhost:8080/"
        },
        "id": "7d5jsTvpiDsL",
        "outputId": "f58b8f6d-178f-4c08-d1ab-32fac8835fca"
      },
      "outputs": [
        {
          "output_type": "stream",
          "name": "stdout",
          "text": [
            "Sat May 28 10:44:11 2022       \n",
            "+-----------------------------------------------------------------------------+\n",
            "| NVIDIA-SMI 460.32.03    Driver Version: 460.32.03    CUDA Version: 11.2     |\n",
            "|-------------------------------+----------------------+----------------------+\n",
            "| GPU  Name        Persistence-M| Bus-Id        Disp.A | Volatile Uncorr. ECC |\n",
            "| Fan  Temp  Perf  Pwr:Usage/Cap|         Memory-Usage | GPU-Util  Compute M. |\n",
            "|                               |                      |               MIG M. |\n",
            "|===============================+======================+======================|\n",
            "|   0  Tesla P100-PCIE...  Off  | 00000000:00:04.0 Off |                    0 |\n",
            "| N/A   45C    P0    28W / 250W |      0MiB / 16280MiB |      0%      Default |\n",
            "|                               |                      |                  N/A |\n",
            "+-------------------------------+----------------------+----------------------+\n",
            "                                                                               \n",
            "+-----------------------------------------------------------------------------+\n",
            "| Processes:                                                                  |\n",
            "|  GPU   GI   CI        PID   Type   Process name                  GPU Memory |\n",
            "|        ID   ID                                                   Usage      |\n",
            "|=============================================================================|\n",
            "|  No running processes found                                                 |\n",
            "+-----------------------------------------------------------------------------+\n"
          ]
        }
      ],
      "source": [
        "import tensorflow as tf\n",
        "(x_train, y_train), (x_test, y_test) = tf.keras.datasets.mnist.load_data() #Load MNIST dataset through Tensorflow.\n",
        "\n",
        "gpu_info = !nvidia-smi\n",
        "gpu_info = '\\n'.join(gpu_info)\n",
        "if gpu_info.find('failed') >= 0: #Outputs GPU Information if a GPU runtime is connected\n",
        "  print('Not connected to a GPU')\n",
        "else:\n",
        "  print(gpu_info)"
      ]
    },
    {
      "cell_type": "code",
      "execution_count": null,
      "metadata": {
        "colab": {
          "base_uri": "https://localhost:8080/",
          "height": 300
        },
        "id": "9xIcfyNMibCM",
        "outputId": "dbac191f-84b6-4ccb-cae1-f65b10cf70be"
      },
      "outputs": [
        {
          "output_type": "stream",
          "name": "stdout",
          "text": [
            "Image Label is: 0\n"
          ]
        },
        {
          "output_type": "execute_result",
          "data": {
            "text/plain": [
              "<matplotlib.image.AxesImage at 0x7fc5ab7faa10>"
            ]
          },
          "metadata": {},
          "execution_count": 24
        },
        {
          "output_type": "display_data",
          "data": {
            "text/plain": [
              "<Figure size 432x288 with 1 Axes>"
            ],
            "image/png": "[encoded data removed]"
          },
          "metadata": {
            "needs_background": "light"
          }
        }
      ],
      "source": [
        "#Plot an example image based on the image_index\n",
        "import matplotlib.pyplot as plt\n",
        "\n",
        "image_index = 1\n",
        "print(\"Image Label is:\", y_train[image_index])\n",
        "plt.imshow(x_train[image_index])\n"
      ]
    },
    {
      "cell_type": "code",
      "execution_count": null,
      "metadata": {
        "colab": {
          "base_uri": "https://localhost:8080/"
        },
        "id": "e69cNe1Mid8K",
        "outputId": "aa8279b5-8e09-4870-a1e3-81503c469f4d"
      },
      "outputs": [
        {
          "output_type": "execute_result",
          "data": {
            "text/plain": [
              "(60000, 28, 28)"
            ]
          },
          "metadata": {},
          "execution_count": 25
        }
      ],
      "source": [
        "#Show how many training images there are and their size/features\n",
        "x_train.shape\n"
      ]
    },
    {
      "cell_type": "code",
      "execution_count": null,
      "metadata": {
        "colab": {
          "base_uri": "https://localhost:8080/"
        },
        "id": "_hMAfAbKid-_",
        "outputId": "035b4a3d-aa1b-4210-9c81-67af6bf32b33"
      },
      "outputs": [
        {
          "output_type": "stream",
          "name": "stdout",
          "text": [
            "x_train shape: (60000, 28, 28, 1)\n"
          ]
        }
      ],
      "source": [
        "#Reshaping and processing data. It is normalised and prepped to be used in TF/Keras\n",
        "x_train.shape\n",
        "image_size = 28\n",
        "num_train_images = 60000\n",
        "num_test_images = 10000\n",
        "\n",
        "x_train = x_train.reshape(num_train_images, image_size, image_size, 1).astype('float32')\n",
        "x_test = x_test.reshape(num_test_images, image_size, image_size, 1).astype('float32')\n",
        "input_shape = (image_size, image_size, 1)\n",
        "#Normalising data values ranging from 0-1\n",
        "x_train /= 255\n",
        "x_test /= 255\n",
        "print('x_train shape:', x_train.shape)\n"
      ]
    },
    {
      "cell_type": "code",
      "execution_count": null,
      "metadata": {
        "id": "cjsKHrMVieBn"
      },
      "outputs": [],
      "source": [
        "# Importing the required Keras modules containing model and layers\n",
        "from tensorflow.keras.models import Sequential\n",
        "from tensorflow.keras.layers import Dense, Conv2D, Dropout, Flatten, MaxPooling2D\n",
        "\n",
        "# Creating a Sequential Model and adding the layers\n",
        "model = Sequential()\n",
        "model.add(Conv2D(56, kernel_size=(6, 6), input_shape=input_shape))\n",
        "model.add(MaxPooling2D(pool_size=(4, 4)))\n",
        "model.add(Flatten()) # Flattening the 2D arrays for fully connected layers\n",
        "model.add(Dense(128, activation=tf.nn.relu)) # Create fully connected layers (New Neuron layer)\n",
        "model.add(Dense(128)) # Tried Leaky Relu, but normal relu works better\n",
        "model.add(Dropout(0.2)) # Prevents overfitting, randomly sets outgoing edge sof hidden units to 0\n",
        "\n",
        "model.add(Dense(10, activation=tf.nn.softmax)) # 10 classes and will pick the one with the greatest numerical value\n"
      ]
    },
    {
      "cell_type": "code",
      "execution_count": null,
      "metadata": {
        "colab": {
          "base_uri": "https://localhost:8080/"
        },
        "id": "aWsbJ69AijIz",
        "outputId": "bbeafaba-f99b-4d39-c96f-c2d79abeb5d3"
      },
      "outputs": [
        {
          "output_type": "stream",
          "name": "stdout",
          "text": [
            "Epoch 1/15\n",
            "1875/1875 [==============================] - 16s 3ms/step - loss: 0.4884 - accuracy: 0.8637\n",
            "Epoch 2/15\n",
            "1875/1875 [==============================] - 5s 3ms/step - loss: 0.1401 - accuracy: 0.9589\n",
            "Epoch 3/15\n",
            "1875/1875 [==============================] - 5s 3ms/step - loss: 0.1004 - accuracy: 0.9703\n",
            "Epoch 4/15\n",
            "1875/1875 [==============================] - 5s 3ms/step - loss: 0.0801 - accuracy: 0.9758\n",
            "Epoch 5/15\n",
            "1875/1875 [==============================] - 5s 3ms/step - loss: 0.0699 - accuracy: 0.9786\n",
            "Epoch 6/15\n",
            "1875/1875 [==============================] - 5s 3ms/step - loss: 0.0627 - accuracy: 0.9815\n",
            "Epoch 7/15\n",
            "1875/1875 [==============================] - 5s 3ms/step - loss: 0.0554 - accuracy: 0.9834\n",
            "Epoch 8/15\n",
            "1875/1875 [==============================] - 5s 3ms/step - loss: 0.0507 - accuracy: 0.9849\n",
            "Epoch 9/15\n",
            "1875/1875 [==============================] - 5s 3ms/step - loss: 0.0466 - accuracy: 0.9861\n",
            "Epoch 10/15\n",
            "1875/1875 [==============================] - 5s 3ms/step - loss: 0.0424 - accuracy: 0.9873\n",
            "Epoch 11/15\n",
            "1875/1875 [==============================] - 5s 3ms/step - loss: 0.0407 - accuracy: 0.9878\n",
            "Epoch 12/15\n",
            "1875/1875 [==============================] - 5s 3ms/step - loss: 0.0372 - accuracy: 0.9884\n",
            "Epoch 13/15\n",
            "1875/1875 [==============================] - 5s 3ms/step - loss: 0.0355 - accuracy: 0.9894\n",
            "Epoch 14/15\n",
            "1875/1875 [==============================] - 5s 3ms/step - loss: 0.0341 - accuracy: 0.9890\n",
            "Epoch 15/15\n",
            "1875/1875 [==============================] - 5s 3ms/step - loss: 0.0316 - accuracy: 0.9903\n",
            "Total Model Fit Time Was:  1.4220239679018656 minutes\n"
          ]
        }
      ],
      "source": [
        "\n",
        "import time\n",
        "model.compile(optimizer='sgd', # SGD is used as it generalises predictions better than adam\n",
        "              loss='sparse_categorical_crossentropy',\n",
        "              metrics=['accuracy'])\n",
        "start = time.time()\n",
        "model.fit(x=x_train,y=y_train, epochs=15)\n",
        "print(\"Total Model Fit Time Was: \", (time.time() - start)/60, \"minutes\")\n",
        "#Epochs after 15 did not improve accuracy and at times decreased before increasing. \n",
        "#This could be a sign of over fitting to training data.\n"
      ]
    },
    {
      "cell_type": "code",
      "execution_count": null,
      "metadata": {
        "id": "vfUgXhg9ijLJ",
        "colab": {
          "base_uri": "https://localhost:8080/"
        },
        "outputId": "ad452c89-f576-4fce-b4bb-99602dce1d62"
      },
      "outputs": [
        {
          "output_type": "stream",
          "name": "stdout",
          "text": [
            "313/313 [==============================] - 1s 2ms/step - loss: 0.0358 - accuracy: 0.9884\n"
          ]
        },
        {
          "output_type": "execute_result",
          "data": {
            "text/plain": [
              "[0.03581686317920685, 0.9883999824523926]"
            ]
          },
          "metadata": {},
          "execution_count": 29
        }
      ],
      "source": [
        "#Evaluate the performance - Finds Loss and Accuracy\n",
        "model.evaluate(x_test, y_test)\n"
      ]
    },
    {
      "cell_type": "code",
      "execution_count": null,
      "metadata": {
        "colab": {
          "base_uri": "https://localhost:8080/"
        },
        "id": "ipSPbHHNk_U4",
        "outputId": "57b290f2-0e70-446f-cb5a-bf2c68e76437"
      },
      "outputs": [
        {
          "output_type": "stream",
          "name": "stdout",
          "text": [
            "Model: \"sequential\"\n",
            "_________________________________________________________________\n",
            " Layer (type)                Output Shape              Param #   \n",
            "=================================================================\n",
            " conv2d (Conv2D)             (None, 23, 23, 56)        2072      \n",
            "                                                                 \n",
            " max_pooling2d (MaxPooling2D  (None, 5, 5, 56)         0         \n",
            " )                                                               \n",
            "                                                                 \n",
            " flatten (Flatten)           (None, 1400)              0         \n",
            "                                                                 \n",
            " dense (Dense)               (None, 128)               179328    \n",
            "                                                                 \n",
            " dense_1 (Dense)             (None, 128)               16512     \n",
            "                                                                 \n",
            " dropout (Dropout)           (None, 128)               0         \n",
            "                                                                 \n",
            " dense_2 (Dense)             (None, 10)                1290      \n",
            "                                                                 \n",
            "=================================================================\n",
            "Total params: 199,202\n",
            "Trainable params: 199,202\n",
            "Non-trainable params: 0\n",
            "_________________________________________________________________\n"
          ]
        }
      ],
      "source": [
        "#Provides summary of the sequential mode and layers used\n",
        "model.summary()\n"
      ]
    },
    {
      "cell_type": "code",
      "execution_count": null,
      "metadata": {
        "colab": {
          "base_uri": "https://localhost:8080/",
          "height": 526
        },
        "id": "hy5aeF7ciljP",
        "outputId": "65b1f4ba-9aa7-4986-e6d4-ef7596600e13"
      },
      "outputs": [
        {
          "output_type": "stream",
          "name": "stdout",
          "text": [
            "Here are the possibilities for each number\n",
            "\n",
            "0 7.566985686935368e-07\n",
            "1 0.9998553991317749\n",
            "2 4.4485710759545327e-07\n",
            "3 3.4949116933802316e-09\n",
            "4 6.277189095271751e-05\n",
            "5 6.149528442023211e-09\n",
            "6 1.4188280772486905e-07\n",
            "7 7.980288501130417e-05\n",
            "8 6.502671112684766e-07\n",
            "9 2.9538092860548204e-08\n",
            "\n",
            "\n",
            "Predicted Handwritten Digit is:  1\n"
          ]
        },
        {
          "output_type": "display_data",
          "data": {
            "text/plain": [
              "<Figure size 432x288 with 1 Axes>"
            ],
            "image/png": "[encoded data removed]"
          },
          "metadata": {
            "needs_background": "light"
          }
        }
      ],
      "source": [
        "import numpy as np\n",
        "image_index = 5\n",
        "image_to_predict = x_test[image_index].reshape(1, 28, 28, 1)\n",
        "plt.imshow(x_test[image_index].reshape(28, 28),cmap='Greys')\n",
        "pred = model.predict(image_to_predict)\n",
        "list1 = pred.tolist()[0]\n",
        "print(\"Here are the possibilities for each number\\n\")\n",
        "for count, i in enumerate(list1):\n",
        "  print(count, i)\n",
        "print(\"\\n\")\n",
        "\n",
        "print(\"Predicted Handwritten Digit is: \", list1.index(max(list1)))"
      ]
    },
    {
      "cell_type": "code",
      "source": [
        "from sklearn.metrics import classification_report\n",
        "\n",
        "y_pred = model.predict(x_test, batch_size=10000, verbose=1)\n",
        "y_pred_bool = np.argmax(y_pred, axis=1)\n",
        "confusion_mat = metrics.confusion_matrix(y_test, y_pred_bool, labels = [0, 1, 2, 3, 4, 5, 6, 7, 8, 9])\n",
        "print(classification_report(y_test, y_pred_bool))\n",
        "print(\"\\n\\nConfusion Matrix:\\n\\n{}\".format(confusion_mat))\n"
      ],
      "metadata": {
        "colab": {
          "base_uri": "https://localhost:8080/"
        },
        "id": "SJ99sh-DGX3C",
        "outputId": "10754a4c-789a-417f-e721-60290515e4e8"
      },
      "execution_count": null,
      "outputs": [
        {
          "output_type": "stream",
          "name": "stdout",
          "text": [
            "1/1 [==============================] - 0s 240ms/step\n",
            "              precision    recall  f1-score   support\n",
            "\n",
            "           0       0.98      1.00      0.99       980\n",
            "           1       0.99      1.00      1.00      1135\n",
            "           2       0.98      0.99      0.99      1032\n",
            "           3       0.99      0.99      0.99      1010\n",
            "           4       0.98      1.00      0.99       982\n",
            "           5       0.99      0.98      0.99       892\n",
            "           6       1.00      0.98      0.99       958\n",
            "           7       0.98      0.99      0.98      1028\n",
            "           8       0.99      0.98      0.99       974\n",
            "           9       1.00      0.97      0.98      1009\n",
            "\n",
            "    accuracy                           0.99     10000\n",
            "   macro avg       0.99      0.99      0.99     10000\n",
            "weighted avg       0.99      0.99      0.99     10000\n",
            "\n",
            "\n",
            "\n",
            "Confusion Matrix:\n",
            "\n",
            "[[ 977    0    1    0    0    0    0    1    1    0]\n",
            " [   0 1133    1    1    0    0    0    0    0    0]\n",
            " [   2    1 1024    0    2    0    0    3    0    0]\n",
            " [   0    0    4 1000    0    3    0    2    1    0]\n",
            " [   0    0    1    0  980    0    0    0    0    1]\n",
            " [   2    0    1    7    0  878    1    1    2    0]\n",
            " [   7    2    0    0    4    2  940    0    3    0]\n",
            " [   1    3    7    1    1    0    0 1014    1    0]\n",
            " [   4    0    2    1    3    1    0    2  958    3]\n",
            " [   3    3    0    0   12    2    0    8    1  980]]\n"
          ]
        }
      ]
    },
    {
      "cell_type": "markdown",
      "source": [
        "## SVM implementation"
      ],
      "metadata": {
        "id": "E-56d2jCypK8"
      }
    },
    {
      "cell_type": "code",
      "source": [
        "from sklearn import svm\n",
        "from sklearn.model_selection import GridSearchCV\n",
        "from sklearn.model_selection import train_test_split\n",
        "from sklearn.metrics import accuracy_score, ConfusionMatrixDisplay\n",
        "import matplotlib.pyplot as plt\n",
        "from sklearn import metrics\n",
        "from sklearn.metrics import plot_confusion_matrix\n",
        "import tensorflow as tf\n",
        "import time"
      ],
      "metadata": {
        "id": "G7oXalvVyoVT"
      },
      "execution_count": null,
      "outputs": []
    },
    {
      "cell_type": "code",
      "source": [
        "(x_train1, y_train), (x_test1, y_test) = tf.keras.datasets.mnist.load_data()"
      ],
      "metadata": {
        "id": "fm6XX1yCyuND"
      },
      "execution_count": null,
      "outputs": []
    },
    {
      "cell_type": "code",
      "source": [
        "#flattening the images\n",
        "train_samples = len(x_train1)\n",
        "test_samples = len(x_test1)\n",
        "x_train = x_train1.reshape((train_samples, -1))\n",
        "x_test = x_test1.reshape((test_samples, -1))\n",
        "\n",
        "print(x_train.shape)\n",
        "print(x_test.shape)"
      ],
      "metadata": {
        "colab": {
          "base_uri": "https://localhost:8080/"
        },
        "id": "VnSBIqMoy1Ay",
        "outputId": "5adc7d07-df7e-45ae-bf32-ccc10fa50028"
      },
      "execution_count": null,
      "outputs": [
        {
          "output_type": "stream",
          "name": "stdout",
          "text": [
            "(60000, 784)\n",
            "(10000, 784)\n"
          ]
        }
      ]
    },
    {
      "cell_type": "code",
      "source": [
        "# Reducing the size of the train and test data, this is not necessary but makes the runtime shorter\n",
        "\n",
        "\n",
        "x_train = x_train[0:60000]\n",
        "y_train = y_train[0:60000]\n",
        "x_test = x_test[0:10000]\n",
        "y_test = y_test[0:10000]\n",
        "print(x_train.shape)\n",
        "print(x_test.shape)\n",
        "\n",
        "start = time.time()\n",
        "svc = svm.SVC(kernel = 'poly')\n",
        "svc.fit(x_train,y_train)\n",
        "print(\"Time taken for model to be fitted was: \" + str(time.time()-start) + \" seconds.\")"
      ],
      "metadata": {
        "id": "vB7umhSBy8R7",
        "colab": {
          "base_uri": "https://localhost:8080/"
        },
        "outputId": "e1fd9154-f549-48f2-82c3-42ae1b25ba1e"
      },
      "execution_count": null,
      "outputs": [
        {
          "output_type": "stream",
          "name": "stdout",
          "text": [
            "(60000, 784)\n",
            "(10000, 784)\n",
            "Time taken for model to be fitted was: 311.5002245903015 seconds.\n"
          ]
        }
      ]
    },
    {
      "cell_type": "code",
      "source": [
        "y_pred = svc.predict(x_test)\n",
        "print(\"The first 100 elements of the predicted Data is:\")\n",
        "print(y_pred[0:100])\n",
        "print(\"The first 100 elements of the actual data is:\")\n",
        "print(y_test[0:100])\n",
        "\n",
        "\n",
        "print(\"\\nThe accuracy score for the model is:\")\n",
        "print(accuracy_score(y_test, y_pred))"
      ],
      "metadata": {
        "colab": {
          "base_uri": "https://localhost:8080/"
        },
        "id": "exF1PCpqNLS0",
        "outputId": "98b2fa56-892e-41fe-84e7-01fcbe2a1824"
      },
      "execution_count": null,
      "outputs": [
        {
          "output_type": "stream",
          "name": "stdout",
          "text": [
            "The first 100 elements of the predicted Data is:\n",
            "[7 2 1 0 4 1 4 9 5 9 0 6 9 0 1 5 9 7 3 4 9 6 6 5 4 0 7 4 0 1 3 1 3 4 7 2 7\n",
            " 1 2 1 1 7 4 2 3 5 1 2 4 4 6 3 5 5 6 0 4 1 9 5 7 8 9 3 7 4 6 4 3 0 7 0 2 9\n",
            " 1 7 3 2 9 7 7 6 2 7 8 4 7 3 6 1 3 6 9 3 1 4 1 7 6 9]\n",
            "The first 100 elements of the actual data is:\n",
            "[7 2 1 0 4 1 4 9 5 9 0 6 9 0 1 5 9 7 3 4 9 6 6 5 4 0 7 4 0 1 3 1 3 4 7 2 7\n",
            " 1 2 1 1 7 4 2 3 5 1 2 4 4 6 3 5 5 6 0 4 1 9 5 7 8 9 3 7 4 6 4 3 0 7 0 2 9\n",
            " 1 7 3 2 9 7 7 6 2 7 8 4 7 3 6 1 3 6 9 3 1 4 1 7 6 9]\n",
            "\n",
            "The accuracy score for the model is:\n",
            "0.9771\n"
          ]
        }
      ]
    },
    {
      "cell_type": "code",
      "source": [
        "plot = plot_confusion_matrix(svc, x_test, y_test)\n",
        "classification_rep = metrics.classification_report(y_test, y_pred)\n",
        "print(classification_rep)\n",
        "print(\"\\nConfusion Matrix:\")"
      ],
      "metadata": {
        "colab": {
          "base_uri": "https://localhost:8080/",
          "height": 664
        },
        "id": "jaWZFzg5NLZ_",
        "outputId": "00ab1527-6d44-4bbc-a488-691359927087"
      },
      "execution_count": null,
      "outputs": [
        {
          "output_type": "stream",
          "name": "stderr",
          "text": [
            "/usr/local/lib/python3.7/dist-packages/sklearn/utils/deprecation.py:87: FutureWarning: Function plot_confusion_matrix is deprecated; Function `plot_confusion_matrix` is deprecated in 1.0 and will be removed in 1.2. Use one of the class methods: ConfusionMatrixDisplay.from_predictions or ConfusionMatrixDisplay.from_estimator.\n",
            "  warnings.warn(msg, category=FutureWarning)\n"
          ]
        },
        {
          "output_type": "stream",
          "name": "stdout",
          "text": [
            "              precision    recall  f1-score   support\n",
            "\n",
            "           0       0.98      0.99      0.99       980\n",
            "           1       0.97      0.99      0.98      1135\n",
            "           2       0.98      0.97      0.98      1032\n",
            "           3       0.98      0.97      0.98      1010\n",
            "           4       0.97      0.98      0.98       982\n",
            "           5       0.97      0.97      0.97       892\n",
            "           6       0.98      0.98      0.98       958\n",
            "           7       0.97      0.97      0.97      1028\n",
            "           8       0.98      0.97      0.98       974\n",
            "           9       0.97      0.96      0.97      1009\n",
            "\n",
            "    accuracy                           0.98     10000\n",
            "   macro avg       0.98      0.98      0.98     10000\n",
            "weighted avg       0.98      0.98      0.98     10000\n",
            "\n",
            "\n",
            "Confusion Matrix:\n"
          ]
        },
        {
          "output_type": "display_data",
          "data": {
            "text/plain": [
              "<Figure size 432x288 with 2 Axes>"
            ],
            "image/png": "[encoded data removed]"
          },
          "metadata": {
            "needs_background": "light"
          }
        }
      ]
    }
  ],
  "metadata": {
    "colab": {
      "name": "ELEC3612-TDS.ipynb",
      "provenance": [],
      "collapsed_sections": [],
      "machine_shape": "hm",
      "include_colab_link": true
    },
    "kernelspec": {
      "display_name": "Python 3",
      "name": "python3"
    },
    "language_info": {
      "name": "python"
    },
    "accelerator": "GPU"
  },
  "nbformat": 4,
  "nbformat_minor": 0
}